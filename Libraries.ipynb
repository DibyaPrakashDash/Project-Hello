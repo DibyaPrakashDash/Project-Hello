{
 "cells": [
  {
   "cell_type": "code",
   "execution_count": 1,
   "id": "65fb9352",
   "metadata": {},
   "outputs": [
    {
     "name": "stdout",
     "output_type": "stream",
     "text": [
      "Collecting pyttsx3\n",
      "  Downloading pyttsx3-2.90-py3-none-any.whl (39 kB)\n",
      "Collecting pypiwin32\n",
      "  Downloading pypiwin32-223-py3-none-any.whl (1.7 kB)\n",
      "Requirement already satisfied: pywin32 in c:\\users\\dibya\\anaconda3\\envs\\dibyaprakash\\lib\\site-packages (from pyttsx3) (227)\n",
      "Collecting comtypes\n",
      "  Downloading comtypes-1.1.10.tar.gz (145 kB)\n",
      "Building wheels for collected packages: comtypes\n",
      "  Building wheel for comtypes (setup.py): started\n",
      "  Building wheel for comtypes (setup.py): finished with status 'done'\n",
      "  Created wheel for comtypes: filename=comtypes-1.1.10-py3-none-any.whl size=165838 sha256=726e84f64172e14a34f71394ac8511b14bf4460a704af82580ea005b837c6169\n",
      "  Stored in directory: c:\\users\\dibya\\appdata\\local\\pip\\cache\\wheels\\c7\\3e\\26\\faa526d811797151de13e75f09b9e6ebab418a7d482d12142e\n",
      "Successfully built comtypes\n",
      "Installing collected packages: pypiwin32, comtypes, pyttsx3\n",
      "Successfully installed comtypes-1.1.10 pypiwin32-223 pyttsx3-2.90\n",
      "Note: you may need to restart the kernel to use updated packages.\n"
     ]
    }
   ],
   "source": [
    "pip install pyttsx3"
   ]
  },
  {
   "cell_type": "code",
   "execution_count": 2,
   "id": "42fe20f7",
   "metadata": {},
   "outputs": [
    {
     "name": "stdout",
     "output_type": "stream",
     "text": [
      "Collecting SpeechRecognition\n",
      "  Using cached SpeechRecognition-3.8.1-py2.py3-none-any.whl (32.8 MB)\n",
      "Installing collected packages: SpeechRecognition\n",
      "Successfully installed SpeechRecognition-3.8.1\n",
      "Note: you may need to restart the kernel to use updated packages.\n"
     ]
    }
   ],
   "source": [
    "pip install SpeechRecognition"
   ]
  },
  {
   "cell_type": "code",
   "execution_count": 5,
   "id": "7ab0dfa8",
   "metadata": {},
   "outputs": [
    {
     "name": "stdout",
     "output_type": "stream",
     "text": [
      "Collecting wikipedia\n",
      "  Downloading wikipedia-1.4.0.tar.gz (27 kB)\n",
      "Collecting beautifulsoup4\n",
      "  Downloading beautifulsoup4-4.9.3-py3-none-any.whl (115 kB)\n",
      "Requirement already satisfied: requests<3.0.0,>=2.0.0 in c:\\users\\dibya\\anaconda3\\envs\\dibyaprakash\\lib\\site-packages (from wikipedia) (2.25.1)\n",
      "Requirement already satisfied: idna<3,>=2.5 in c:\\users\\dibya\\anaconda3\\envs\\dibyaprakash\\lib\\site-packages (from requests<3.0.0,>=2.0.0->wikipedia) (2.10)\n",
      "Requirement already satisfied: chardet<5,>=3.0.2 in c:\\users\\dibya\\anaconda3\\envs\\dibyaprakash\\lib\\site-packages (from requests<3.0.0,>=2.0.0->wikipedia) (4.0.0)\n",
      "Requirement already satisfied: urllib3<1.27,>=1.21.1 in c:\\users\\dibya\\anaconda3\\envs\\dibyaprakash\\lib\\site-packages (from requests<3.0.0,>=2.0.0->wikipedia) (1.26.4)\n",
      "Requirement already satisfied: certifi>=2017.4.17 in c:\\users\\dibya\\anaconda3\\envs\\dibyaprakash\\lib\\site-packages (from requests<3.0.0,>=2.0.0->wikipedia) (2020.12.5)\n",
      "Collecting soupsieve>1.2\n",
      "  Downloading soupsieve-2.2.1-py3-none-any.whl (33 kB)\n",
      "Building wheels for collected packages: wikipedia\n",
      "  Building wheel for wikipedia (setup.py): started\n",
      "  Building wheel for wikipedia (setup.py): finished with status 'done'\n",
      "  Created wheel for wikipedia: filename=wikipedia-1.4.0-py3-none-any.whl size=11686 sha256=b6900a79293a6316d92fb3e4555f900ef1e040da7bfdd2062bfb27259cde6ffd\n",
      "  Stored in directory: c:\\users\\dibya\\appdata\\local\\pip\\cache\\wheels\\e4\\26\\c3\\4f401d3e5c907d26a2c4ca8484141f02f7630c98fbcfd78a5e\n",
      "Successfully built wikipedia\n",
      "Installing collected packages: soupsieve, beautifulsoup4, wikipedia\n",
      "Successfully installed beautifulsoup4-4.9.3 soupsieve-2.2.1 wikipedia-1.4.0\n",
      "Note: you may need to restart the kernel to use updated packages.\n"
     ]
    }
   ],
   "source": [
    "pip install wikipedia"
   ]
  },
  {
   "cell_type": "code",
   "execution_count": 6,
   "id": "8cf68e38",
   "metadata": {},
   "outputs": [
    {
     "name": "stdout",
     "output_type": "stream",
     "text": [
      "Collecting google\n",
      "  Downloading google-3.0.0-py2.py3-none-any.whl (45 kB)\n",
      "Requirement already satisfied: beautifulsoup4 in c:\\users\\dibya\\anaconda3\\envs\\dibyaprakash\\lib\\site-packages (from google) (4.9.3)\n",
      "Requirement already satisfied: soupsieve>1.2 in c:\\users\\dibya\\anaconda3\\envs\\dibyaprakash\\lib\\site-packages (from beautifulsoup4->google) (2.2.1)\n",
      "Installing collected packages: google\n",
      "Successfully installed google-3.0.0\n",
      "Note: you may need to restart the kernel to use updated packages.\n"
     ]
    }
   ],
   "source": [
    "pip install google"
   ]
  },
  {
   "cell_type": "code",
   "execution_count": 7,
   "id": "31728c1e",
   "metadata": {},
   "outputs": [
    {
     "name": "stdout",
     "output_type": "stream",
     "text": [
      "Note: you may need to restart the kernel to use updated packages.\n"
     ]
    },
    {
     "name": "stderr",
     "output_type": "stream",
     "text": [
      "ERROR: Could not find a version that satisfies the requirement webbrowser\n",
      "ERROR: No matching distribution found for webbrowser\n"
     ]
    }
   ],
   "source": [
    "pip install webbrowser"
   ]
  },
  {
   "cell_type": "code",
   "execution_count": 1,
   "id": "5d311694",
   "metadata": {},
   "outputs": [
    {
     "name": "stdout",
     "output_type": "stream",
     "text": [
      "Collecting pyowmNote: you may need to restart the kernel to use updated packages.\n",
      "  Downloading pyowm-2.10.0-py3-none-any.whl (3.7 MB)\n",
      "Collecting geojson<3,>=2.3.0\n",
      "  Downloading geojson-2.5.0-py2.py3-none-any.whl (14 kB)\n",
      "\n",
      "Requirement already satisfied: requests<3,>=2.20.0 in c:\\users\\dibya\\anaconda3\\envs\\dibyaprakash\\lib\\site-packages (from pyowm) (2.25.1)\n",
      "Requirement already satisfied: chardet<5,>=3.0.2 in c:\\users\\dibya\\anaconda3\\envs\\dibyaprakash\\lib\\site-packages (from requests<3,>=2.20.0->pyowm) (4.0.0)\n",
      "Requirement already satisfied: certifi>=2017.4.17 in c:\\users\\dibya\\anaconda3\\envs\\dibyaprakash\\lib\\site-packages (from requests<3,>=2.20.0->pyowm) (2020.12.5)\n",
      "Requirement already satisfied: urllib3<1.27,>=1.21.1 in c:\\users\\dibya\\anaconda3\\envs\\dibyaprakash\\lib\\site-packages (from requests<3,>=2.20.0->pyowm) (1.26.4)\n",
      "Requirement already satisfied: idna<3,>=2.5 in c:\\users\\dibya\\anaconda3\\envs\\dibyaprakash\\lib\\site-packages (from requests<3,>=2.20.0->pyowm) (2.10)\n",
      "Installing collected packages: geojson, pyowm\n",
      "Successfully installed geojson-2.5.0 pyowm-2.10.0\n"
     ]
    }
   ],
   "source": [
    "pip install pyowm"
   ]
  },
  {
   "cell_type": "code",
   "execution_count": null,
   "id": "aa762ece",
   "metadata": {},
   "outputs": [],
   "source": []
  }
 ],
 "metadata": {
  "kernelspec": {
   "display_name": "Python 3",
   "language": "python",
   "name": "python3"
  },
  "language_info": {
   "codemirror_mode": {
    "name": "ipython",
    "version": 3
   },
   "file_extension": ".py",
   "mimetype": "text/x-python",
   "name": "python",
   "nbconvert_exporter": "python",
   "pygments_lexer": "ipython3",
   "version": "3.6.12"
  }
 },
 "nbformat": 4,
 "nbformat_minor": 5
}
