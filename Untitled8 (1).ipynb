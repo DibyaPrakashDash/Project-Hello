{
 "cells": [
  {
   "cell_type": "code",
   "execution_count": 5,
   "metadata": {},
   "outputs": [
    {
     "name": "stdout",
     "output_type": "stream",
     "text": [
      "Hi nihar, what can I do for you?\n",
      " listening...\n",
      "Google Speech Recognition did not understand audio\n",
      " listening...\n",
      "You said: what time it is\n",
      " listening...\n",
      "You said: sorry what time is it\n",
      "Sun Jun 27 18:00:51 2021\n",
      " listening...\n",
      "Google Speech Recognition did not understand audio\n",
      " listening...\n",
      "Google Speech Recognition did not understand audio\n",
      " listening...\n",
      "You said: where is Bhubaneswar\n",
      " listening...\n",
      "Google Speech Recognition did not understand audio\n",
      "here i found\n",
      " listening...\n",
      "Google Speech Recognition did not understand audio\n",
      " listening...\n",
      "You said: sing is not working at\n",
      " listening...\n",
      "You said: Ram internet\n",
      " listening...\n",
      "You said: try to make sure that when you search to where is\n",
      " listening...\n",
      "You said: train\n",
      "here i foundtrain\n",
      " listening...\n",
      "Google Speech Recognition did not understand audio\n",
      " listening...\n",
      "You said: Vivah song\n",
      " listening...\n",
      "You said: stop listening\n",
      "Listening stopped\n"
     ]
    }
   ],
   "source": [
    "import speech_recognition as sr\n",
    "from time import ctime\n",
    "import webbrowser \n",
    "import time\n",
    "\n",
    "def listen():\n",
    "    r = sr.Recognizer()\n",
    "    with sr.Microphone() as source:\n",
    "        print(\" listening...\")\n",
    "        audio = r.listen(source)\n",
    "    data = \"\"\n",
    "    try:\n",
    "        data = r.recognize_google(audio)\n",
    "        print(\"You said: \" + str(data))\n",
    "    except sr.UnknownValueError:\n",
    "        print(\"Google Speech Recognition did not understand audio\")\n",
    "    except sr.RequestError as e:\n",
    "        print(\"Request Failed {0}\".format(e))\n",
    "    return data\n",
    "\n",
    "def digital_assistant(data):\n",
    "    global listening\n",
    "    if \"how are you\" in data:\n",
    "        listening = True\n",
    "        print(\"I am well\")\n",
    "\n",
    "    if \"what time is it\" in data:\n",
    "        listening = True\n",
    "        print(ctime())\n",
    "\n",
    "    if \"what is\" in data:\n",
    "        listening = True\n",
    "        search=listen()\n",
    "        url='www.bing.com/search?q='+search+'&form='\n",
    "        webbrowser.get().open(url)\n",
    "        print(\"here i found\"+search)\n",
    "    if \"where is\" in data:\n",
    "        listening = True\n",
    "        search=listen()\n",
    "        url='https://www.bing.com/search?q='+search+'&form='\n",
    "        webbrowser.get().open(url)\n",
    "        print(\"here i found\"+search)\n",
    "    if \"stop listening\" in data:\n",
    "        listening = False\n",
    "        print('Listening stopped')\n",
    "    return listening\n",
    "\n",
    "time.sleep(2)\n",
    "print(\"Hi nihar, what can I do for you?\")\n",
    "listening = True\n",
    "while listening == True:\n",
    "    data = listen()\n",
    "    listening = digital_assistant(data)    "
   ]
  },
  {
   "cell_type": "code",
   "execution_count": 2,
   "metadata": {},
   "outputs": [
    {
     "name": "stdout",
     "output_type": "stream",
     "text": [
      "0\n"
     ]
    }
   ],
   "source": [
    "import pandas as pd\n",
    "import numpy as np\n",
    "data=pd.read_csv('Hello.csv')\n",
    "X=data[:]\n",
    "\n",
    "from sklearn import linear_model\n",
    "df=linear_model.LinearRegression()\n",
    "\n",
    "df.fit(X[['Salary','HouseRent','Medical Bills','Recharges','Food','Cigg or Alcohol','Shopping','Others']],X.Savings)\n",
    "\n",
    "y_pred = df.predict([[16000,3000,742,824,87648762,0,2503,4557]])\n",
    "\n",
    "saving = y_pred\n",
    "\n",
    "if saving < 0:\n",
    "    saving = 0\n",
    "print(saving)    "
   ]
  },
  {
   "cell_type": "code",
   "execution_count": 3,
   "metadata": {},
   "outputs": [
    {
     "name": "stdout",
     "output_type": "stream",
     "text": [
      "ab\n",
      "ac\n"
     ]
    }
   ],
   "source": [
    "def xy():\n",
    "    print(\"ab\")\n",
    "    def ac():\n",
    "        print('ac')\n",
    "        \n",
    "    ac()\n",
    "\n",
    "xy()"
   ]
  },
  {
   "cell_type": "code",
   "execution_count": 8,
   "metadata": {},
   "outputs": [
    {
     "name": "stdout",
     "output_type": "stream",
     "text": [
      "[123]\n"
     ]
    }
   ],
   "source": [
    "a_string = \"dp 123\"\n",
    "ab= a_string.replace('dp ','')\n",
    "a_list = ab.split()\n",
    "map_object = map(int, a_list)\n",
    "#applies int() to a_list elements\n",
    "\n",
    "list_of_integers = list(map_object)\n",
    "print(list_of_integers)"
   ]
  },
  {
   "cell_type": "code",
   "execution_count": 7,
   "metadata": {},
   "outputs": [
    {
     "name": "stdout",
     "output_type": "stream",
     "text": [
      "65663\n"
     ]
    }
   ],
   "source": [
    "string=\"dp 65663\"\n",
    "ab=string.replace(\"dp\",\"\")\n",
    "print(ab)"
   ]
  },
  {
   "cell_type": "code",
   "execution_count": 11,
   "metadata": {},
   "outputs": [
    {
     "name": "stdout",
     "output_type": "stream",
     "text": [
      "65460000 654 6546 6898 654 6546 654 654016\n"
     ]
    }
   ],
   "source": [
    "save= \"salary,65460000,654,6546,6898,654,6546,654,654016\"\n",
    "save= save.replace(\"salary,\",\"\")\n",
    "sal,HR,MB,rech,Food,CigAl,shop,oth= map(int,save.split(\",\"))\n",
    "print(sal,HR,MB,rech,Food,CigAl,shop,oth)"
   ]
  }
 ],
 "metadata": {
  "kernelspec": {
   "display_name": "Python 3",
   "language": "python",
   "name": "python3"
  },
  "language_info": {
   "codemirror_mode": {
    "name": "ipython",
    "version": 3
   },
   "file_extension": ".py",
   "mimetype": "text/x-python",
   "name": "python",
   "nbconvert_exporter": "python",
   "pygments_lexer": "ipython3",
   "version": "3.6.12"
  }
 },
 "nbformat": 4,
 "nbformat_minor": 4
}
