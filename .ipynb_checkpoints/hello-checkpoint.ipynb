{
 "cells": [
  {
   "cell_type": "code",
   "execution_count": 1,
   "id": "54d32794",
   "metadata": {},
   "outputs": [],
   "source": [
    "import numpy as np\n",
    "import sklearn\n",
    "import matplotlib.pyplot as plt\n",
    "import pandas as pd\n",
    "import tkinter as tk\n",
    "import pyttsx3\n",
    "import speech_recognition as sr\n",
    "import webbrowser  \n",
    "import datetime  \n",
    "import wikipedia \n",
    "import google\n",
    "import pyowm\n",
    "import re"
   ]
  },
  {
   "cell_type": "code",
   "execution_count": 2,
   "id": "16bde7c5",
   "metadata": {},
   "outputs": [],
   "source": [
    "#data\n",
    "sites={\"google\":\"www.google.com\",\"wiki\":\"www.wikipedia.org\",\"numpy\":\"www.numpy.org\"}\n"
   ]
  },
  {
   "cell_type": "code",
   "execution_count": 5,
   "id": "54332ebb",
   "metadata": {},
   "outputs": [],
   "source": [
    "def tellDay():\n",
    "    day = datetime.datetime.today().weekday() + 1\n",
    "    Day_dict = {1: 'Monday', 2: 'Tuesday', \n",
    "                3: 'Wednesday', 4: 'Thursday', \n",
    "                5: 'Friday', 6: 'Saturday',\n",
    "                7: 'Sunday'}\n",
    "      \n",
    "    if day in Day_dict.keys():\n",
    "        day_of_the_week = Day_dict[day]\n",
    "        print(\"The day is \",day_of_the_week)\n",
    "  \n",
    "  \n",
    "def tellTime():\n",
    "      \n",
    "    time = str(datetime.datetime.now())      \n",
    "    print(time)\n",
    "    hour = time[11:13]\n",
    "    min = time[14:16]\n",
    "    print(\"The time is sir \", hour,\" Hours and\", min,\" Minutes\")  \n",
    "\n",
    "def takeCommand():\n",
    "    command=input()\n",
    "    return command\n",
    "def Hello():\n",
    "    print(\"Hello {} ! I am your Personal Assistant, Kevin. How can I help you?\".format(user))\n",
    "    #print(\"Hi!\")\n",
    "    \n",
    "def Take_query():\n",
    "    Hello()\n",
    "    while(True):\n",
    "        query = takeCommand().lower()\n",
    "        \n",
    "        if re.search(\"open\",query) or re.search(\"search\",query):\n",
    "            for key in sites:\n",
    "                if re.search(key,query):\n",
    "                    webbrowser.open(sites[key])\n",
    "                    break\n",
    "                \n",
    "                else:\n",
    "                    continue\n",
    "                    \n",
    "            else:\n",
    "                print(\"Seems, I don't have this address registered. Please enter name & full address\")\n",
    "                nm=input(\"Site Name:\").lower()\n",
    "                ad=input(\"Site Address:\").lower()\n",
    "                sites[nm]=ad\n",
    "                print(sites)\n",
    "                print(\"Successfully Registered!!\")\n",
    "                webbrowser.open(sites[nm])\n",
    "                \n",
    "                break\n",
    "                \n",
    "        elif re.search(\"which day it is\",query):\n",
    "            tellDay()\n",
    "            continue\n",
    "          \n",
    "        elif (re.search(\"tell\",query) or re.search(\"what\",query)) and re.search(\"time\",query):\n",
    "            tellTime()\n",
    "            continue\n",
    "        elif re.search(\"what\",query) and re.search(\"your\",query) and re.search(\"name\",query):\n",
    "            print(\"I am Kevin. Your Personal Assistant.\")\n",
    "            continue\n",
    "            \n",
    "        elif re.search(\"what\",query) or re.search(\"who\",query):\n",
    "            \n",
    "            print(\"I'm checking the wikipedia \")\n",
    "            if re.search(\"what\",query):\n",
    "                query = query.replace(\"what\", \"\")\n",
    "            elif  re.search(\"who\",query):\n",
    "                query = query.replace(\"who\", \"\")\n",
    "              \n",
    "            result = wikipedia.summary(query, sentences=4)\n",
    "            print(\"According to wikipedia\")\n",
    "            print(result)\n",
    "        \n",
    "        elif re.search(\"quit\",query) or re.search(\"exit\",query):\n",
    "            print(\"I will see you soon!!\")\n",
    "            break\n"
   ]
  },
  {
   "cell_type": "code",
   "execution_count": 6,
   "id": "d46079cc",
   "metadata": {},
   "outputs": [
    {
     "name": "stdout",
     "output_type": "stream",
     "text": [
      "Enter Your Name: dibya\n",
      "Hello dibya ! I am your Personal Assistant, Kevin. How can I help you?\n",
      "search google\n",
      "bye\n",
      "exit\n",
      "I will see you soon!!\n"
     ]
    }
   ],
   "source": [
    "user=input(\"Enter Your Name: \")\n",
    "Take_query()"
   ]
  },
  {
   "cell_type": "code",
   "execution_count": 8,
   "id": "117ac33f",
   "metadata": {},
   "outputs": [],
   "source": [
    "import pyaudio\n",
    "import wave\n",
    "import sys"
   ]
  },
  {
   "cell_type": "code",
   "execution_count": null,
   "id": "3383f979",
   "metadata": {},
   "outputs": [],
   "source": []
  }
 ],
 "metadata": {
  "kernelspec": {
   "display_name": "Python 3",
   "language": "python",
   "name": "python3"
  },
  "language_info": {
   "codemirror_mode": {
    "name": "ipython",
    "version": 3
   },
   "file_extension": ".py",
   "mimetype": "text/x-python",
   "name": "python",
   "nbconvert_exporter": "python",
   "pygments_lexer": "ipython3",
   "version": "3.6.12"
  }
 },
 "nbformat": 4,
 "nbformat_minor": 5
}
