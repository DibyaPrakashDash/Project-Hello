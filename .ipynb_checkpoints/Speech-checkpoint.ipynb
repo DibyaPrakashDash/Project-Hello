{
 "cells": [
  {
   "cell_type": "code",
   "execution_count": 1,
   "metadata": {},
   "outputs": [],
   "source": [
    "import speech_recognition as sr\n",
    "from time import ctime\n",
    "import webbrowser  \n",
    "import time\n",
    "import os\n",
    "def listen():\n",
    "    r = sr.Recognizer()\n",
    "    with sr.Microphone() as source:\n",
    "        print(\" listening...\")\n",
    "        audio = r.listen(source)\n",
    "    data = \"\"\n",
    "    try:\n",
    "        data = r.recognize_google(audio)\n",
    "        print(\"You said: \" + str(data))\n",
    "    except sr.UnknownValueError:\n",
    "        print(\"Google Speech Recognition did not understand audio\")\n",
    "    except sr.RequestError as e:\n",
    "        print(\"Request Failed; {0}\".format(e))\n",
    "    return data\n",
    "\n",
    "def respond(data):\n",
    "    if \"how are you\" in data:\n",
    "        listening = True\n",
    "        respond(\"I am well\")\n",
    "\n",
    "    if \"what time is it\" in data:\n",
    "        listening = True\n",
    "        respond(ctime())\n",
    "        \n",
    "    if \"search\" in data:\n",
    "        search=listen()\n",
    "        url='https://google.com/search?q = '+search\n",
    "        webbrowser.get().open(url)\n",
    "        print(\"here i found\"+search)\n",
    "    if \"search location\" in data:\n",
    "        search=listen()\n",
    "        url='https://google.nl/maps/place/'+location+'/&amp;'\n",
    "        webbrowser.get().open(url)\n",
    "        print(\"here i found\"+location)\n",
    "    if \"stop listening\" in data:\n",
    "        listening = False\n",
    "        print('Listening stopped')\n",
    "       \n",
    "time.sleep(3)       \n",
    "print('what can i do for you')\n",
    "while(True):\n",
    "    data=listen()\n",
    "    respond(data)       "
   ]
  },
  {
   "cell_type": "code",
   "execution_count": null,
   "metadata": {},
   "outputs": [],
   "source": []
  }
 ],
 "metadata": {
  "kernelspec": {
   "display_name": "Python 3",
   "language": "python",
   "name": "python3"
  },
  "language_info": {
   "codemirror_mode": {
    "name": "ipython",
    "version": 3
   },
   "file_extension": ".py",
   "mimetype": "text/x-python",
   "name": "python",
   "nbconvert_exporter": "python",
   "pygments_lexer": "ipython3",
   "version": "3.8.5"
  }
 },
 "nbformat": 4,
 "nbformat_minor": 4
}
